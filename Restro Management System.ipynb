{
 "cells": [
  {
   "cell_type": "code",
   "execution_count": 1,
   "id": "b9443541-7237-494f-9e7f-1b4cb9dfdae1",
   "metadata": {},
   "outputs": [],
   "source": [
    "### Restro Menu"
   ]
  },
  {
   "cell_type": "code",
   "execution_count": 11,
   "id": "2695f475-7127-47ab-8c2d-274776de05e3",
   "metadata": {},
   "outputs": [],
   "source": [
    "menu = {\"Pizza\":50,\n",
    "        \"Pasta\":50,\n",
    "        \"Burger\":100,\n",
    "        \"Salad\":80,\n",
    "        \"Coffee\":80,\n",
    "    \n",
    "}"
   ]
  },
  {
   "cell_type": "code",
   "execution_count": 12,
   "id": "783fd6c6-d5a5-4932-a414-3dafabc1e238",
   "metadata": {},
   "outputs": [
    {
     "name": "stdout",
     "output_type": "stream",
     "text": [
      "{'Pizza': 50, 'Pasta': 50, 'Burger': 100, 'Salad': 80, 'Coffee': 80}\n"
     ]
    }
   ],
   "source": [
    "print(menu)"
   ]
  },
  {
   "cell_type": "code",
   "execution_count": 13,
   "id": "1270417a-8c52-4a14-a9c3-9c633a620f3e",
   "metadata": {},
   "outputs": [],
   "source": [
    "## Greeting Line"
   ]
  },
  {
   "cell_type": "code",
   "execution_count": 14,
   "id": "dbf102aa-7b0d-4d02-b74a-a30d33ee7af4",
   "metadata": {},
   "outputs": [
    {
     "name": "stdout",
     "output_type": "stream",
     "text": [
      "Welcome to the RogueOne Restaurant\n"
     ]
    }
   ],
   "source": [
    "print(\"Welcome to the RogueOne Restaurant\")"
   ]
  },
  {
   "cell_type": "code",
   "execution_count": 15,
   "id": "8f08ef57-6de8-4034-a0ef-7ca95fcefd36",
   "metadata": {},
   "outputs": [
    {
     "name": "stdout",
     "output_type": "stream",
     "text": [
      "Pizza: Rs50\n",
      "Pasta: Rs50\n",
      "Burger: Rs100\n",
      "Salad: Rs80\n",
      "Coffee: Rs80\n"
     ]
    }
   ],
   "source": [
    "print(\"Pizza: Rs50\\nPasta: Rs50\\nBurger: Rs100\\nSalad: Rs80\\nCoffee: Rs80\")"
   ]
  },
  {
   "cell_type": "code",
   "execution_count": 16,
   "id": "39178869-f73c-4e33-8b3c-fdf78daf7c94",
   "metadata": {},
   "outputs": [],
   "source": [
    "order_total = 0"
   ]
  },
  {
   "cell_type": "code",
   "execution_count": 17,
   "id": "7ca062ed-875d-41e3-be22-3723810fb9b2",
   "metadata": {},
   "outputs": [],
   "source": [
    "#50+50+80"
   ]
  },
  {
   "cell_type": "code",
   "execution_count": 20,
   "id": "5c059d27-169a-42c3-969b-878a5eef19a0",
   "metadata": {},
   "outputs": [
    {
     "name": "stdin",
     "output_type": "stream",
     "text": [
      "Enter the name of the item you want to order =  Pizza\n"
     ]
    },
    {
     "name": "stdout",
     "output_type": "stream",
     "text": [
      "Your Item Pizza has been added to your order\n"
     ]
    },
    {
     "name": "stdin",
     "output_type": "stream",
     "text": [
      "do you want to add another  item? (yes/no) yes\n",
      "enter the name of second item =  Salad\n"
     ]
    },
    {
     "name": "stdout",
     "output_type": "stream",
     "text": [
      "Item Salad has been added to your  order\n",
      "The total amount of items is to pay 340\n"
     ]
    }
   ],
   "source": [
    "item_1 = input(\"Enter the name of the item you want to order = \")\n",
    "if item_1 in menu:\n",
    "    order_total+= menu[item_1]  #0+50+80\n",
    "    print(f\"Your Item {item_1} has been added to your order\")\n",
    "\n",
    "else: \n",
    "    print(f\"Ordered item{item_1} is not availabe yet\")\n",
    "\n",
    "another_order = input(\"do you want to add another  item? (yes/no)\")\n",
    "if another_order ==\"yes\":\n",
    "    item_2 = input(\"enter the name of second item = \")\n",
    "    if item_2 in menu:\n",
    "        order_total += menu[item_2]\n",
    "        print(f\"Item {item_2} has been added to your  order\")\n",
    "    else:\n",
    "        print(f\"ordered item{item_2} is not available yet\")\n",
    "print(f\"The total amount of items is to pay {order_total}\")\n"
   ]
  },
  {
   "cell_type": "code",
   "execution_count": null,
   "id": "65f9c754-1f14-4d3e-9173-d923751cb9de",
   "metadata": {},
   "outputs": [],
   "source": []
  }
 ],
 "metadata": {
  "kernelspec": {
   "display_name": "Python 3 (ipykernel)",
   "language": "python",
   "name": "python3"
  },
  "language_info": {
   "codemirror_mode": {
    "name": "ipython",
    "version": 3
   },
   "file_extension": ".py",
   "mimetype": "text/x-python",
   "name": "python",
   "nbconvert_exporter": "python",
   "pygments_lexer": "ipython3",
   "version": "3.12.7"
  }
 },
 "nbformat": 4,
 "nbformat_minor": 5
}
